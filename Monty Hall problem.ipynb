{
 "cells": [
  {
   "cell_type": "code",
   "execution_count": 24,
   "id": "9e03fbb7",
   "metadata": {},
   "outputs": [
    {
     "name": "stdout",
     "output_type": "stream",
     "text": [
      "Win percentage: 67.10000000000001 %\n"
     ]
    }
   ],
   "source": [
    "import random\n",
    "\n",
    "def monty_hall(num_doors, switch_choice):\n",
    "    # Randomly place the prize behind one of the doors\n",
    "    prize_door = random.randint(1, num_doors)\n",
    "\n",
    "    \n",
    "    # Randomly choose a door as the initial choice\n",
    "    initial_choice = random.randint(1, num_doors)\n",
    "\n",
    "    # Determine which door to open as a losing door\n",
    "    losing_doors = [door for door in range(1, num_doors + 1) if door != prize_door and door != initial_choice]\n",
    "    open_door = random.choice(losing_doors)\n",
    "    \n",
    "    # Determine whether to switch the initial choice\n",
    "    final_choice = next(door for door in range(1, num_doors + 1) if door != initial_choice and door != open_door)\n",
    "    \n",
    "    # Determine if the final choice is a winning door\n",
    "    win = final_choice == prize_door\n",
    "    \n",
    "    # Return whether the final choice is a winning door\n",
    "    return win\n",
    "\n",
    "# Example usage\n",
    "num_doors = 3\n",
    "num_simulations = 1000\n",
    "switch_choice = True\n",
    "\n",
    "wins = 0\n",
    "for i in range(num_simulations):\n",
    "    if monty_hall(num_doors, switch_choice):\n",
    "        wins += 1\n",
    "\n",
    "print(\"Win percentage:\", wins / num_simulations * 100, \"%\")\n"
   ]
  },
  {
   "cell_type": "code",
   "execution_count": null,
   "id": "08ce2119",
   "metadata": {},
   "outputs": [],
   "source": []
  },
  {
   "cell_type": "code",
   "execution_count": null,
   "id": "c84905af",
   "metadata": {},
   "outputs": [],
   "source": []
  }
 ],
 "metadata": {
  "kernelspec": {
   "display_name": "Python 3 (ipykernel)",
   "language": "python",
   "name": "python3"
  },
  "language_info": {
   "codemirror_mode": {
    "name": "ipython",
    "version": 3
   },
   "file_extension": ".py",
   "mimetype": "text/x-python",
   "name": "python",
   "nbconvert_exporter": "python",
   "pygments_lexer": "ipython3",
   "version": "3.9.7"
  }
 },
 "nbformat": 4,
 "nbformat_minor": 5
}
