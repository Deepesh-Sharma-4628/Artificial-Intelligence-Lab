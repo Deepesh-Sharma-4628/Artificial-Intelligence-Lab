{
 "cells": [
  {
   "cell_type": "code",
   "execution_count": 14,
   "id": "06af509b",
   "metadata": {
    "scrolled": true
   },
   "outputs": [
    {
     "name": "stdout",
     "output_type": "stream",
     "text": [
      "[[(1, 3), (2, 6), (3, 5)], [(0, 3), (4, 9), (5, 8)], [(0, 6), (6, 12), (7, 14)], [(0, 5), (8, 7)], [(1, 9)], [(1, 8)], [(2, 12)], [(2, 14)], [(3, 7), (9, 5), (10, 6)], [(8, 5), (11, 1), (12, 10), (13, 2)], [(8, 6)], [(9, 1)], [(9, 10)], [(9, 2)]]\n",
      "0 1 3 2 8 9 "
     ]
    }
   ],
   "source": [
    "from queue import PriorityQueue\n",
    "\n",
    "v = 14\n",
    "graph = [[] for i in range(v)]\n",
    "\n",
    "# Function For Implementing Best First Search\n",
    "# Gives output path having lowest cost\n",
    "def best_first_search(actual_Src, target, n):\n",
    "    visited = [False] * n\n",
    "    pq = PriorityQueue()\n",
    "    pq.put((0, actual_Src))\n",
    "    visited[actual_Src] = True\n",
    "\n",
    "    while not pq.empty():\n",
    "        u = pq.get()[1]\n",
    "        # Displaying the path having lowest cost\n",
    "        print(u, end=\" \")\n",
    "        if u == target:\n",
    "            break\n",
    "\n",
    "        for v, c in graph[u]:\n",
    "            if not visited[v]:\n",
    "                visited[v] = True\n",
    "                pq.put((c, v))\n",
    "    #print()\n",
    "\n",
    "# Function for adding edges to graph\n",
    "def addedge(x, y, cost):\n",
    "    graph[x].append((y, cost))\n",
    "    graph[y].append((x, cost))\n",
    "\n",
    "# The nodes shown in above example(by alphabets) are\n",
    "# implemented using integers addedge(x,y,cost);\n",
    "addedge(0, 1, 3)\n",
    "addedge(0, 2, 6)\n",
    "addedge(0, 3, 5)\n",
    "addedge(1, 4, 9)\n",
    "addedge(1, 5, 8)\n",
    "addedge(2, 6, 12)\n",
    "addedge(2, 7, 14)\n",
    "addedge(3, 8, 7)\n",
    "addedge(8, 9, 5)\n",
    "addedge(8, 10, 6)\n",
    "addedge(9, 11, 1)\n",
    "addedge(9, 12, 10)\n",
    "addedge(9, 13, 2)\n",
    "print(graph)\n",
    "source = 0\n",
    "target = 9\n",
    "best_first_search(source, target, v)\n",
    "\n",
    "# This code is contributed by Jyotheeswar Ganne\n"
   ]
  },
  {
   "cell_type": "code",
   "execution_count": null,
   "id": "796edaea",
   "metadata": {},
   "outputs": [],
   "source": []
  }
 ],
 "metadata": {
  "kernelspec": {
   "display_name": "Python 3 (ipykernel)",
   "language": "python",
   "name": "python3"
  },
  "language_info": {
   "codemirror_mode": {
    "name": "ipython",
    "version": 3
   },
   "file_extension": ".py",
   "mimetype": "text/x-python",
   "name": "python",
   "nbconvert_exporter": "python",
   "pygments_lexer": "ipython3",
   "version": "3.9.7"
  }
 },
 "nbformat": 4,
 "nbformat_minor": 5
}
